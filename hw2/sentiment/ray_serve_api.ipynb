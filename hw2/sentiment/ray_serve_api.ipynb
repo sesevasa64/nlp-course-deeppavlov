{
 "cells": [
  {
   "cell_type": "code",
   "execution_count": 1,
   "metadata": {},
   "outputs": [],
   "source": [
    "import os\n",
    "import json\n",
    "import pandas as pd\n",
    "import requests\n",
    "from ray import serve\n",
    "from transformers import pipeline\n",
    "from starlette.requests import Request\n",
    "from collections import defaultdict\n",
    "os.environ[\"TOKENIZERS_PARALLELISM\"] = \"false\""
   ]
  },
  {
   "cell_type": "code",
   "execution_count": 2,
   "metadata": {},
   "outputs": [],
   "source": [
    "sentiment = pipeline(\n",
    "    \"sentiment-analysis\",\n",
    "    \"distilbert-base-uncased-finetuned-sst-2-english\"\n",
    ")"
   ]
  },
  {
   "cell_type": "code",
   "execution_count": 3,
   "metadata": {},
   "outputs": [
    {
     "data": {
      "text/plain": [
       "[{'label': 'POSITIVE', 'score': 0.998663067817688}]"
      ]
     },
     "execution_count": 3,
     "metadata": {},
     "output_type": "execute_result"
    }
   ],
   "source": [
    "sentiment(\"I think what is meeting was very cool\")"
   ]
  },
  {
   "cell_type": "code",
   "execution_count": 4,
   "metadata": {},
   "outputs": [],
   "source": [
    "@serve.deployment\n",
    "class Summarizer:\n",
    "    def __init__(self):\n",
    "        self.model = \"distilbert-base-uncased-finetuned-sst-2-english\"\n",
    "        self.sentiment = pipeline(\"sentiment-analysis\", model=self.model)\n",
    "\n",
    "    async def __call__(self, request: Request):\n",
    "        query_params = request.query_params\n",
    "        headers = defaultdict(str, request.headers)\n",
    "        if headers[\"content-type\"] == \"application/json\" and \"txt\" in query_params:\n",
    "            raise NameError(\"Invalid request Schema\")\n",
    "        if headers[\"content-type\"] == \"application/json\":\n",
    "            payload = await request.json()\n",
    "            payload = json.loads(payload)\n",
    "        else:\n",
    "            payload = [{\"text\": query_params[\"txt\"]}]\n",
    "        sent_list = [p[\"text\"] for p in payload]\n",
    "        batch = self.sentiment(sent_list)\n",
    "        labels = [item[\"label\"] for item in batch]\n",
    "        return labels"
   ]
  },
  {
   "cell_type": "code",
   "execution_count": 5,
   "metadata": {},
   "outputs": [
    {
     "name": "stderr",
     "output_type": "stream",
     "text": [
      "2023-06-18 14:40:09,948\tINFO worker.py:1627 -- Started a local Ray instance. View the dashboard at \u001b[1m\u001b[32mhttp://127.0.0.1:8265 \u001b[39m\u001b[22m\n",
      "\u001b[2m\u001b[36m(ServeController pid=1259)\u001b[0m INFO 2023-06-18 14:40:11,535 controller 1259 deployment_state.py:1298 - Deploying new version of deployment Summarizer.\n",
      "\u001b[2m\u001b[36m(HTTPProxyActor pid=1307)\u001b[0m INFO:     Started server process [1307]\n",
      "\u001b[2m\u001b[36m(ServeController pid=1259)\u001b[0m INFO 2023-06-18 14:40:11,626 controller 1259 deployment_state.py:1537 - Adding 1 replica to deployment Summarizer.\n"
     ]
    }
   ],
   "source": [
    "serve.start()\n",
    "Summarizer.deploy()"
   ]
  },
  {
   "cell_type": "code",
   "execution_count": 6,
   "metadata": {},
   "outputs": [
    {
     "data": {
      "text/plain": [
       "'[\"POSITIVE\"]'"
      ]
     },
     "execution_count": 6,
     "metadata": {},
     "output_type": "execute_result"
    }
   ],
   "source": [
    "text = \"I think what is meeting was very cool\"\n",
    "response = requests.get(f\"http://127.0.0.1:8000/Summarizer?txt={text}\")\n",
    "response.text"
   ]
  },
  {
   "cell_type": "code",
   "execution_count": 7,
   "metadata": {},
   "outputs": [
    {
     "data": {
      "text/html": [
       "<div>\n",
       "<style scoped>\n",
       "    .dataframe tbody tr th:only-of-type {\n",
       "        vertical-align: middle;\n",
       "    }\n",
       "\n",
       "    .dataframe tbody tr th {\n",
       "        vertical-align: top;\n",
       "    }\n",
       "\n",
       "    .dataframe thead th {\n",
       "        text-align: right;\n",
       "    }\n",
       "</style>\n",
       "<table border=\"1\" class=\"dataframe\">\n",
       "  <thead>\n",
       "    <tr style=\"text-align: right;\">\n",
       "      <th></th>\n",
       "      <th>text</th>\n",
       "    </tr>\n",
       "  </thead>\n",
       "  <tbody>\n",
       "    <tr>\n",
       "      <th>0</th>\n",
       "      <td>Very positive sentence</td>\n",
       "    </tr>\n",
       "    <tr>\n",
       "      <th>1</th>\n",
       "      <td>Very negative sentence</td>\n",
       "    </tr>\n",
       "  </tbody>\n",
       "</table>\n",
       "</div>"
      ],
      "text/plain": [
       "                     text\n",
       "0  Very positive sentence\n",
       "1  Very negative sentence"
      ]
     },
     "execution_count": 7,
     "metadata": {},
     "output_type": "execute_result"
    }
   ],
   "source": [
    "df = pd.DataFrame({\n",
    "    \"text\": [\n",
    "        \"Very positive sentence\", \n",
    "        \"Very negative sentence\"\n",
    "    ]\n",
    "})\n",
    "df"
   ]
  },
  {
   "cell_type": "code",
   "execution_count": 8,
   "metadata": {},
   "outputs": [
    {
     "data": {
      "text/plain": [
       "'[{\"text\":\"Very positive sentence\"},{\"text\":\"Very negative sentence\"}]'"
      ]
     },
     "execution_count": 8,
     "metadata": {},
     "output_type": "execute_result"
    }
   ],
   "source": [
    "df.to_json(orient=\"records\")"
   ]
  },
  {
   "cell_type": "code",
   "execution_count": 10,
   "metadata": {},
   "outputs": [
    {
     "data": {
      "text/plain": [
       "'[\"POSITIVE\", \"NEGATIVE\"]'"
      ]
     },
     "execution_count": 10,
     "metadata": {},
     "output_type": "execute_result"
    },
    {
     "name": "stderr",
     "output_type": "stream",
     "text": [
      "\u001b[2m\u001b[36m(ServeReplica:Summarizer pid=1367)\u001b[0m INFO 2023-06-18 14:40:17,097 Summarizer Summarizer#MchoWb eNrMMzGnGA /Summarizer replica.py:654 - __CALL__ OK 51.5ms\n"
     ]
    }
   ],
   "source": [
    "json = df.to_json(orient=\"records\")\n",
    "response = requests.get(f\"http://127.0.0.1:8000/Summarizer\", json=json)\n",
    "response.text"
   ]
  }
 ],
 "metadata": {
  "kernelspec": {
   "display_name": "venv",
   "language": "python",
   "name": "python3"
  },
  "language_info": {
   "codemirror_mode": {
    "name": "ipython",
    "version": 3
   },
   "file_extension": ".py",
   "mimetype": "text/x-python",
   "name": "python",
   "nbconvert_exporter": "python",
   "pygments_lexer": "ipython3",
   "version": "3.10.6"
  },
  "orig_nbformat": 4
 },
 "nbformat": 4,
 "nbformat_minor": 2
}
